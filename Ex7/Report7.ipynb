{
 "cells": [
  {
   "cell_type": "markdown",
   "metadata": {},
   "source": [
    "#  Model assessment: LOO-CV for factory data with Stan\n",
    "\n",
    "In this exercise, the aim is to assess the predictive performance of the pooled, separate and\n",
    "hierarchical Gaussian models developed for the factory dataset. The data provided contain\n",
    "quality control measurements from 6 machines in a factory and more specifically only 5\n",
    "measurements were done for each machine."
   ]
  },
  {
   "cell_type": "markdown",
   "metadata": {},
   "source": [
    "## To recap:\n",
    "Three different models were used for modelling the data:\n",
    "\n",
    "• Separate model: each of the i th machine (i = 1, ..., 6) is modelled with its own model, that is:\n",
    "\\begin{equation}\n",
    "y_i ∼ N(μ_i,σ_i)\n",
    "\\end{equation}\n",
    "where $μ_i$ and $σ_i$ are the mean and standard deviation of the distribution associated with the ith machine and $y_i$ represents the measurements of the i th machine.\n",
    "\n",
    "\n",
    "• Pooled model: all the measurements are considered together, without making any difference between the machines. This means that the following model is considered:\n",
    "\\begin{equation}\n",
    "y ∼ N(μ,σ)\n",
    "\\end{equation}\n",
    "where y is a quality measurement from any machine, and μ and σ are the parameters characterizing the normal distribution.\n",
    "\n",
    "\n",
    "• Hierarchical model: in this case, the following model is considered:\n",
    "\\begin{equation}\n",
    "y_i ∼ N(μ_i,σ)\n",
    "\\end{equation}\n",
    "and at the same time is assumed that the mean values μ i are drawn from a normal distribution $N(μ_0 , σ_0)$.\n"
   ]
  },
  {
   "cell_type": "markdown",
   "metadata": {
    "collapsed": true
   },
   "source": [
    "## Some theory.\n",
    "\n",
    "All the three models were implemented in Stan with default settings (i.e. 4 chains, 2000 iterations of which 1000 of warm-up and uniform priors). \n",
    "\n",
    "The predictive performance of the three models were evaluated with the Pareto smoothed importance sampling (PSIS) leave-one-out (LOO) cross-validation. The PSIS-LOO is a particularly new implementation  of the LOO scheme. If n observation are available, we fit n models to the data by leaving one of the data points out at each time. This data point is then used to estimate how well the model is able in predicting it. The predictive accuracy for a fitted model is called log pointwise predictive density (lppd) and it is evaluated as:\n",
    "\n",
    "\\begin{equation}\n",
    "\\text{lppd} = \\sum\\limits_{i=1}^n log\\bigg(\\frac{1}{S}\\sum\\limits_{s=1}^S p(y_i|\\theta^s)\\bigg)\n",
    "\\end{equation}\n",
    "\n",
    "where S is the number of simulations drawn from the posterior probability and $y_i$ are the observations.\n",
    "\n",
    "In case of PSIS-LOO cross-validation, the estimate log pointwise predictive density is.\n",
    "\n",
    "\\begin{equation}\n",
    "\\text{lppd}_{llo-cv} = \\sum\\limits_{i=1}^n log\\bigg(\\frac{\\sum_{s=1}^S w_i^s p(y_i|\\theta^s)}{\\sum_{s=1}^S w_i^s}\\bigg)\n",
    "\\end{equation}\n",
    "\n",
    "Now the equation $p_{loo-cv} = \\text{lppd}-\\text{lppd}_{loo-cv}$ can be used to estimate the complexity of the used models \n",
    "\n",
    "In the PSIS method, also the estimated shape k̂ of the generalized Pareto distribution can be used to assess the reliability of the estimate. High estimates of k̂ (generally > 1) indicate that the full posterior is not a good importance sampling approximation to the desired leave-one- out posterior, and thus the observation is surprising according to the model. In case of k̂ < 0.5, model is considered good and in case of 0.5 < k̂ < 1, attention should be paid, but generally up to 0.7 the models are good."
   ]
  },
  {
   "cell_type": "markdown",
   "metadata": {},
   "source": [
    "## Code base "
   ]
  },
  {
   "cell_type": "code",
   "execution_count": 22,
   "metadata": {
    "collapsed": true
   },
   "outputs": [],
   "source": [
    "%matplotlib inline\n",
    "\n",
    "import pystan\n",
    "import numpy as np \n",
    "import matplotlib.pyplot as plt\n",
    "import utilities_and_data.psis as util"
   ]
  },
  {
   "cell_type": "markdown",
   "metadata": {},
   "source": [
    "### import data"
   ]
  },
  {
   "cell_type": "code",
   "execution_count": 16,
   "metadata": {
    "collapsed": true
   },
   "outputs": [],
   "source": [
    "data = np.fromfile('data/factory.txt',sep=' ',dtype='i')\n",
    "# Create data dict\n",
    "y = data.reshape((5,6)).T\n",
    "y = y.reshape(30)\n",
    "N = 5*6\n",
    "x = np.repeat(np.arange(1,6),6).reshape((5,6)).T\n",
    "x = x.reshape(30)\n",
    "data_dic = {'N': N,\n",
    "               'y': y,\n",
    "               'x': x,\n",
    "               'K': 6}"
   ]
  },
  {
   "cell_type": "markdown",
   "metadata": {},
   "source": [
    "### The 3 models (results follows)"
   ]
  },
  {
   "cell_type": "code",
   "execution_count": 42,
   "metadata": {
    "collapsed": true
   },
   "outputs": [],
   "source": [
    "separate_mod = \"\"\"\n",
    "data {\n",
    "    int<lower=0> N; // number of data points\n",
    "    int<lower=0> K; // number of groups\n",
    "    int<lower=1,upper=K> x[N]; // group indicator\n",
    "    vector[N] y; // data\n",
    "}\n",
    "parameters {\n",
    "    vector[K] mu; // group means\n",
    "    vector<lower=0>[K] sigma; // group stds\n",
    "}\n",
    "model {\n",
    "    for (n in 1:N)\n",
    "    y[n] ~ normal(mu[x[n]], sigma[x[n]]);\n",
    "}\n",
    "generated quantities {\n",
    "    vector[N] log_lik;\n",
    "    for (n in 1:N)\n",
    "    log_lik[n] <- normal_log(y[n], mu[x[n]], sigma[x[n]]);\n",
    "}\n",
    "\"\"\"\n",
    "\n",
    "pool_mod = \"\"\"\n",
    "data {\n",
    "    int<lower=0> N; // number of data points\n",
    "    vector[N] y; // data\n",
    "}\n",
    "parameters {\n",
    "    real mu; // group means\n",
    "    real<lower=0> sigma; // group stds\n",
    "}\n",
    "model {\n",
    "    y ~ normal(mu, sigma);\n",
    "}\n",
    "generated quantities {\n",
    "    vector[N] log_lik;\n",
    "    for (n in 1:N)\n",
    "    log_lik[n] <- normal_log(y[n], mu, sigma);\n",
    "}\n",
    "\"\"\"\n",
    "hiera_mod = \"\"\"\n",
    "data {\n",
    "    int<lower=0> N; // number of data points\n",
    "    int<lower=0> K; // number of groups\n",
    "    int<lower=1,upper=K> x[N]; // group indicator\n",
    "    vector[N] y; // data\n",
    "}\n",
    "parameters {\n",
    "    real mu0; // prior mean\n",
    "    real<lower=0> sigma0; // prior std\n",
    "    vector[K] mu; // group means\n",
    "    real<lower=0> sigma; // common std\n",
    "}\n",
    "model {\n",
    "mu ~ normal(mu0, sigma0); // population prior with unknown parameters\n",
    "for (n in 1:N)\n",
    "y[n] ~ normal(mu[x[n]], sigma);\n",
    "}\n",
    "generated quantities {\n",
    "vector[N] log_lik;\n",
    "for (n in 1:N)\n",
    "log_lik[n] <- normal_log(y[n], mu[x[n]], sigma);\n",
    "}\n",
    "\"\"\""
   ]
  },
  {
   "cell_type": "markdown",
   "metadata": {},
   "source": [
    "### Compile models"
   ]
  },
  {
   "cell_type": "code",
   "execution_count": 43,
   "metadata": {},
   "outputs": [
    {
     "name": "stderr",
     "output_type": "stream",
     "text": [
      "INFO:pystan:COMPILING THE C++ CODE FOR MODEL anon_model_0d3f3e20c32947697081d8c80736215b NOW.\n",
      "INFO:pystan:COMPILING THE C++ CODE FOR MODEL anon_model_f36d56d5a1909cf65d4f4cbdac3df63a NOW.\n",
      "INFO:pystan:COMPILING THE C++ CODE FOR MODEL anon_model_f08e23439f974d7c6f27f8722027b828 NOW.\n"
     ]
    }
   ],
   "source": [
    "sm = pystan.StanModel(model_code=separate_mod)\n",
    "pm = pystan.StanModel(model_code=pool_mod)\n",
    "hm = pystan.StanModel(model_code=hiera_mod)"
   ]
  },
  {
   "cell_type": "markdown",
   "metadata": {},
   "source": [
    "### Fit"
   ]
  },
  {
   "cell_type": "code",
   "execution_count": 44,
   "metadata": {
    "collapsed": true
   },
   "outputs": [],
   "source": [
    "sm_fit = sm.sampling(data=data_dic)\n",
    "pm_fit = pm.sampling(data=data_dic)\n",
    "hm_fit = hm.sampling(data=data_dic)"
   ]
  },
  {
   "cell_type": "markdown",
   "metadata": {},
   "source": [
    "### Extract estimats"
   ]
  },
  {
   "cell_type": "code",
   "execution_count": 45,
   "metadata": {},
   "outputs": [],
   "source": [
    "sm_est = sm_fit.extract(permuted=True)\n",
    "pm_est = pm_fit.extract(permuted=True)\n",
    "hm_est = hm_fit.extract(permuted=True)"
   ]
  },
  {
   "cell_type": "markdown",
   "metadata": {},
   "source": [
    "### Run psis-loo"
   ]
  },
  {
   "cell_type": "code",
   "execution_count": 53,
   "metadata": {},
   "outputs": [],
   "source": [
    "sm_loo, sm_loos, sm_ks = util.psisloo(sm_est['log_lik'])\n",
    "pm_loo, pm_loos, pm_ks = util.psisloo(pm_est['log_lik'])\n",
    "hm_loo, hm_loos, hm_ks = util.psisloo(hm_est['log_lik'])"
   ]
  },
  {
   "cell_type": "markdown",
   "metadata": {},
   "source": [
    "## Results"
   ]
  },
  {
   "cell_type": "markdown",
   "metadata": {},
   "source": [
    "### Plot $\\hat k$ for alle models"
   ]
  },
  {
   "cell_type": "code",
   "execution_count": 66,
   "metadata": {},
   "outputs": [
    {
     "data": {
      "image/png": "[encoded data removed]",
      "text/plain": [
       "<matplotlib.figure.Figure at 0x7f8b1f16f7b8>"
      ]
     },
     "metadata": {},
     "output_type": "display_data"
    }
   ],
   "source": [
    "plt.figure(figsize=(15, 7))\n",
    "plt.subplot(1,3,1)\n",
    "plt.scatter(np.arange(len(sm_ks)),sm_ks,s=10)\n",
    "plt.ylim(-0.2,1.1)\n",
    "plt.hlines(0,0,30)\n",
    "plt.hlines(0.5, 0, 30, linestyles='dashed')\n",
    "plt.hlines(1, 0, 30, linestyles='dashed')\n",
    "\n",
    "plt.subplot(1,3,2)\n",
    "plt.scatter(np.arange(len(pm_ks)),pm_ks,s=10)\n",
    "plt.ylim(-0.2,1.1)\n",
    "plt.hlines(0,0,30)\n",
    "plt.hlines(0,0,30)\n",
    "plt.hlines(0.5, 0, 30, linestyles='dashed')\n",
    "plt.hlines(1, 0, 30, linestyles='dashed')\n",
    "\n",
    "plt.subplot(1,3,3)\n",
    "plt.scatter(np.arange(len(hm_ks)),hm_ks,s=10)\n",
    "plt.ylim(-0.2,1.1)\n",
    "plt.hlines(0,0,30)\n",
    "plt.hlines(0,0,30)\n",
    "plt.hlines(0.5, 0, 30, linestyles='dashed')\n",
    "plt.hlines(1, 0, 30, linestyles='dashed');"
   ]
  },
  {
   "cell_type": "markdown",
   "metadata": {},
   "source": [
    "### Calculate p_eff"
   ]
  },
  {
   "cell_type": "code",
   "execution_count": 93,
   "metadata": {},
   "outputs": [
    {
     "name": "stdout",
     "output_type": "stream",
     "text": [
      "The separet model: \n",
      " Effective number of parameters is 4.58301003409\n",
      "-2lppd and -2lppd_loo_cv is respectivly [261.128404557, 270.294424625]\n",
      "\n",
      "The pool model: \n",
      " Effective number of parameters is 1.13909919484\n",
      "-2lppd and -2lppd_loo_cv is respectivly [259.740975956, 262.019174346]\n",
      "\n",
      "The Hierarchical model: \n",
      " Effective number of parameters is 2.43904932044\n",
      "-2lppd and -2lppd_loo_cv is respectivly [257.542473762, 262.420572403]\n",
      "\n"
     ]
    }
   ],
   "source": [
    "sm_lppd = np.sum(np.mean(sm_est['log_lik'], axis=0))\n",
    "pm_lppd = np.sum(np.mean(pm_est['log_lik'], axis=0))\n",
    "hm_lppd = np.sum(np.mean(hm_est['log_lik'], axis=0))\n",
    "\n",
    "sm_p_eff = sm_lppd - sm_loo\n",
    "pm_p_eff = pm_lppd - pm_loo\n",
    "hm_p_eff = hm_lppd - hm_loo\n",
    "\n",
    "print('The separet model: \\n Effective number of parameters is ' + str(sm_p_eff) + '\\n' +\n",
    "      '-2lppd and -2lppd_loo_cv is respectivly [' + str(-2*sm_lppd) + ', ' + str(-2*sm_loo) + ']\\n')\n",
    "print('The pool model: \\n Effective number of parameters is ' + str(pm_p_eff) + '\\n' +\n",
    "      '-2lppd and -2lppd_loo_cv is respectivly [' + str(-2*pm_lppd) + ', ' + str(-2*pm_loo) + ']\\n')\n",
    "print('The Hierarchical model: \\n Effective number of parameters is ' + str(hm_p_eff) + '\\n' +\n",
    "      '-2lppd and -2lppd_loo_cv is respectivly [' + str(-2*hm_lppd) + ', ' + str(-2*hm_loo) + ']\\n')"
   ]
  },
  {
   "cell_type": "markdown",
   "metadata": {},
   "source": [
    "## Comments"
   ]
  },
  {
   "cell_type": "markdown",
   "metadata": {},
   "source": [
    "The obtained parameters make it possible to compare the models. When the estimated shape parameter k̂ is considered, it is possible to observe that the separate model has 4 parameters in the range 0.5-1, the hierarchical 2 and the pooled model 1. This means that the pooled model seems to be the most reliable according to this parameter.\n",
    "\n",
    "When the results in from the print out above are considered, it is possible to compare the models according to the parameters −2lppd and $−2lppd_{loo−cv}$ (lower values imply higher predictive accuracy). In this case, it is possible to observe that the hierarchical model has the highest predictive accuracy. Concerning the effective number of parameters, it can be seen that the pooled one has the lowest value, the hierarchical the middle and the separate model the highest. \n",
    "\n",
    "This was expected because in the separate model 12 parameters (6 means and 6 standard deviations) are estimated, in the pooled model 2 parameters (common mean and standard deviation) are estimated, and in the hierarchical model 9 parameters (6 means, common standard deviation and the two parameters originating the distribution of the mean) are estimated. The effective number of parameters gives an idea of the complexity of the model and as expected the pooled one has the lowest complexity. \n",
    "\n",
    "By taking into account all these aspects, it seems that the pooled model is the easiest and most reliable model, while the hierarchical one is the one with the highest predictive accuracy. Depending on the desired application one of these two can be chosen. On the other side, the separate model should be excluded because of its poor performances."
   ]
  }
 ],
 "metadata": {
  "kernelspec": {
   "display_name": "tensorflow",
   "language": "python",
   "name": "tensorflow"
  },
  "language_info": {
   "codemirror_mode": {
    "name": "ipython",
    "version": 3
   },
   "file_extension": ".py",
   "mimetype": "text/x-python",
   "name": "python",
   "nbconvert_exporter": "python",
   "pygments_lexer": "ipython3",
   "version": "3.5.2"
  }
 },
 "nbformat": 4,
 "nbformat_minor": 2
}
