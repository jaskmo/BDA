{
 "cells": [
  {
   "cell_type": "markdown",
   "metadata": {},
   "source": [
    "# Exercise 3"
   ]
  },
  {
   "cell_type": "markdown",
   "metadata": {},
   "source": [
    "## Problem 3.1"
   ]
  },
  {
   "cell_type": "markdown",
   "metadata": {},
   "source": [
    "### Some Theory "
   ]
  },
  {
   "cell_type": "markdown",
   "metadata": {},
   "source": [
    "When we want to know about $\\mu$ in a multiparameter model with parameter $\\mu$ and $\\sigma^2$, we need the average over the nuisance parameter on the joint posterior distribution (in this case $\\sigma^2$).\n",
    "\n",
    "$p(\\mu|y) = \\int p(\\mu|\\sigma^2,y)p(\\sigma^2|y) d\\sigma^2$\n",
    "\n",
    "An easy way of doing this in practice is to factor the joint posterior distribution (as is done above) into the conditional posterior distribution on the nuisance parameter and a marginal posterior distribution on the nuisance parameter. Now we can first draw $\\sigma^2$ from the marginal posterior distribution, and then use that $\\sigma^2$ to draw $\\mu$ from the conditional posterior distribution. This indirectly evaluate the integral with respect to $\\sigma^2$"
   ]
  },
  {
   "cell_type": "markdown",
   "metadata": {},
   "source": [
    "how ever while working with the Normal model, and using a noninformative prior distribution such as $(\\sigma^2)^{-1}$ the posterior distribution taks on a convinient analytic (closed) form, namely a scaled and translated vertion of the studen's t form:\n",
    "\n",
    "$\\frac{\\bar{y}-\\mu}{s/\\sqrt{n}}|\\mu,\\sigma^2 \\sim t_{n-1}$\n",
    "\n",
    "this amounts to a studen's $t_{n-1}$, with a translation/location of $\\bar{y}$ and scale of $\\sqrt{s^2/n}$"
   ]
  },
  {
   "cell_type": "markdown",
   "metadata": {},
   "source": [
    "### Code base"
   ]
  },
  {
   "cell_type": "code",
   "execution_count": 2,
   "metadata": {},
   "outputs": [],
   "source": [
    "#magic call\n",
    "%matplotlib inline\n",
    "#imports\n",
    "import matplotlib\n",
    "import matplotlib.pyplot as plt\n",
    "import numpy as np\n",
    "from utilities_and_data import plot_tools, sinvchi2 #this is the N-inv Chi^2 distribution\n",
    "from scipy import stats"
   ]
  },
  {
   "cell_type": "code",
   "execution_count": 3,
   "metadata": {
    "collapsed": true
   },
   "outputs": [],
   "source": [
    "# edit default plot settings\n",
    "plt.rc('font', size=12)"
   ]
  },
  {
   "cell_type": "code",
   "execution_count": 4,
   "metadata": {},
   "outputs": [],
   "source": [
    "#sample data\n",
    "y = np.loadtxt('data/windshieldy1.txt')\n",
    "n = len(y)\n",
    "y_mean = np.mean(y)\n",
    "y_s2 = np.var(y,ddof=1)"
   ]
  },
  {
   "cell_type": "markdown",
   "metadata": {},
   "source": [
    "### 3.1.a"
   ]
  },
  {
   "cell_type": "code",
   "execution_count": 23,
   "metadata": {},
   "outputs": [
    {
     "name": "stdout",
     "output_type": "stream",
     "text": [
      "\n",
      "\n",
      "\n",
      "The mean of the posterior distribution of μ is 14.61\n",
      "The variance of the posterior distribution of μ is 0.322\n"
     ]
    },
    {
     "data": {
      "image/png": "[encoded data removed]",
      "text/plain": [
       "<matplotlib.figure.Figure at 0x7f0ba2ae8630>"
      ]
     },
     "metadata": {},
     "output_type": "display_data"
    }
   ],
   "source": [
    "# compute the exact marginal density for mu\n",
    "# multiplication by 1./sqrt(s2/n) is due to the transformation of variable\n",
    "# z=(x-mean(y))/sqrt(s2/n), see BDA3 p. 21\n",
    "pos_dist_mu = stats.t(n-1, loc=y_mean, scale=np.sqrt(y_s2/n))\n",
    "mean, var = pos_dist_mu.stats('mv')\n",
    "\n",
    "#create line space (x axis)\n",
    "x = np.linspace(mean-var*7, mean+var*7, 1000)\n",
    "\n",
    "pos_pd_mu = pos_dist_mu.pdf(x)\n",
    "plt.plot(x,pos_pd_mu)\n",
    "\n",
    "# show only x-axis\n",
    "plot_tools.modify_axes.only_x()\n",
    "# annotate the line\n",
    "plt.annotate(r'$p(μ|y,n)$',\n",
    "             (x[len(x)//2]-0.015, pos_pd_mu[len(x)//2]),\n",
    "             ha='right'\n",
    "            )\n",
    "\n",
    "x_95 = pos_dist_mu.interval(0.95)\n",
    "x_95_idx = ((x>x_95[0])&(x<x_95[1]))\n",
    "\n",
    "plt.fill_between(x[x_95_idx], pos_pd_mu[x_95_idx], color='0.92')\n",
    "# add text into the shaded area\n",
    "plt.text(x[np.argmax(pos_pd_mu)],0.4,\"95%\", horizontalalignment='center')\n",
    "# add labels and title\n",
    "plt.xlabel(r'$μ$')\n",
    "\n",
    "mean, var = pos_dist_mu.stats('mv')\n",
    "\n",
    "print('\\n\\n\\nThe mean of the posterior distribution of μ is ' + str(np.round(mean,decimals=2)) + '\\n' +\n",
    "      'The variance of the posterior distribution of μ is ' + str(np.round(var,decimals=3)))"
   ]
  },
  {
   "cell_type": "markdown",
   "metadata": {},
   "source": [
    "We can thus say that $\\mu$ takes on a value between 13.47 and 15.74 with a 95% curtanty "
   ]
  },
  {
   "cell_type": "markdown",
   "metadata": {},
   "source": [
    "### 3.1.b\n",
    "\n",
    "working with the Normal model, and using a noninformative prior distribution such as $(\\sigma^2)^{-1}$ the posterior predictive distribution also takes on the form of a studen's $t_{n-1}$, but now the translation/location is $\\bar{y}$ and the scale is $\\sqrt{s^2(1+\\frac{1}{n})}$"
   ]
  },
  {
   "cell_type": "code",
   "execution_count": 37,
   "metadata": {},
   "outputs": [
    {
     "name": "stdout",
     "output_type": "stream",
     "text": [
      "\n",
      "\n",
      "\n",
      "The mean of the posterior distribution of μ is 14.61\n",
      "The variance of the posterior distribution of μ is 3.219\n"
     ]
    },
    {
     "data": {
      "image/png": "[encoded data removed]",
      "text/plain": [
       "<matplotlib.figure.Figure at 0x7f0ba2ae8d68>"
      ]
     },
     "metadata": {},
     "output_type": "display_data"
    }
   ],
   "source": [
    "#frees the dist.\n",
    "pos_pred_dist = stats.t(n-1, loc=y_mean, scale=np.sqrt(y_s2*(1+1/n)))\n",
    "pred_mean, pred_var = pos_pred_dist.stats('mv')\n",
    "\n",
    "#create sample space/x-axis\n",
    "x_pred = np.linspace(pred_mean-pred_var*3, pred_mean+pred_var*3, 1000)\n",
    "\n",
    "pos_pred_pd = pos_pred_dist.pdf(x_pred)\n",
    "plt.plot(x_pred,pos_pred_pd)\n",
    "\n",
    "# show only x-axis\n",
    "plot_tools.modify_axes.only_x()\n",
    "# annotate the line\n",
    "plt.annotate(r'$p(y_{new}|y,n)$',\n",
    "             (x_pred[len(x)//2]-0.015, pos_pred_pd[len(x)//2]),\n",
    "             ha='right'\n",
    "            )\n",
    "\n",
    "x_pred_95 = pos_pred_dist.interval(0.95)\n",
    "x_pred_95_idx = ((x_pred>x_pred_95[0])&(x_pred<x_pred_95[1]))\n",
    "\n",
    "plt.fill_between(x_pred[x_pred_95_idx], pos_pred_pd[x_pred_95_idx], color='0.92')\n",
    "# add text into the shaded area\n",
    "plt.text(x_pred[np.argmax(pos_pred_pd)],0.1,\"95%\", horizontalalignment='center')\n",
    "# add labels and title\n",
    "plt.xlabel(r'$y_{new}$')\n",
    "\n",
    "print('\\n\\n\\nThe mean of the posterior distribution of μ is ' + str(np.round(pred_mean,decimals=2)) + '\\n' +\n",
    "      'The variance of the posterior distribution of μ is ' + str(np.round(pred_var,decimals=3)))"
   ]
  },
  {
   "cell_type": "markdown",
   "metadata": {},
   "source": [
    "Thus we can say that the hardness of the next windshield lays with in the interval from 11.03 to 18.19 with a 95 percent certainti."
   ]
  },
  {
   "cell_type": "markdown",
   "metadata": {},
   "source": [
    "## problem 3.2"
   ]
  },
  {
   "cell_type": "markdown",
   "metadata": {},
   "source": [
    "### some theory"
   ]
  },
  {
   "cell_type": "markdown",
   "metadata": {},
   "source": [
    "While working with binomial data, the conjungate prior is a Beta($\\alpha,\\beta$), and when used the posterior distribution has a closed form as:\n",
    "\n",
    "$p(p_x|y) \\propto \\text{Beta}(\\alpha+y,\\beta+n-y) $\n",
    "\n",
    "Lets assign $p_0$ as the probability of dieying in the controle groupe, and $p_1$ as the probability of dieying in the treatment group.\n",
    "\n",
    "We can then sample from the two posteriors and run the samples through the odds function, and that way do inference on the increase of the odds of surviving under the treatment\n",
    "\n",
    "additional let us use a weakly informative prior Beta(2,20)"
   ]
  },
  {
   "cell_type": "markdown",
   "metadata": {},
   "source": [
    "### Code base"
   ]
  },
  {
   "cell_type": "code",
   "execution_count": 117,
   "metadata": {},
   "outputs": [],
   "source": [
    "#freez the distributions\n",
    "p0_dist = stats.beta(2+39,20+674-39)\n",
    "p1_dist = stats.beta(2+22,20+680-22)\n",
    "\n",
    "# create the sample space\n",
    "x = np.linspace(0, p0_dist.median()*3, 1000)\n",
    "\n",
    "# draw n random samples from the two distributions\n",
    "n = 10000\n",
    "p0 = p0_dist.rvs(n)  # rvs comes from `random variates`\n",
    "p1 = p1_dist.rvs(n)\n",
    "\n",
    "# run the odds function \n",
    "odd = (p1/(1-p1))/(p0/(1-p0))"
   ]
  },
  {
   "cell_type": "markdown",
   "metadata": {},
   "source": [
    "### 3.2.a"
   ]
  },
  {
   "cell_type": "code",
   "execution_count": 124,
   "metadata": {},
   "outputs": [
    {
     "data": {
      "image/png": "[encoded data removed]",
      "text/plain": [
       "<matplotlib.figure.Figure at 0x7f0ba10cfe10>"
      ]
     },
     "metadata": {},
     "output_type": "display_data"
    }
   ],
   "source": [
    "# plot 2 subplots\n",
    "fig, axes = plt.subplots(nrows=3, ncols=1, figsize=(8, 8))\n",
    "# show only x-axis\n",
    "plot_tools.modify_axes.only_x(axes)\n",
    "# manually adjust spacing\n",
    "fig.subplots_adjust(hspace=0.5)\n",
    "\n",
    "# plot histogram\n",
    "axes[0].hist(p0, bins=40, color=plot_tools.lighten('C0'))\n",
    "# compute 2.5% and 97.5% quantile approximation using samples\n",
    "p0_25, p0_975 = np.percentile(p0, [2.5, 97.5])\n",
    "# draw lines for these\n",
    "axes[0].axvline(p0_25, color='C1')\n",
    "axes[0].axvline(p0_975, color='C1')\n",
    "axes[0].text(\n",
    "    p0_25,\n",
    "    axes[0].get_ylim()[1]+15,\n",
    "    '2.5%',\n",
    "    horizontalalignment='center'\n",
    ")\n",
    "axes[0].text(\n",
    "    p0_975,\n",
    "    axes[0].get_ylim()[1]+15,\n",
    "    '97.5%',\n",
    "    horizontalalignment='center'\n",
    ")\n",
    "axes[0].set_xlabel(r'$p0$')\n",
    "\n",
    "# plot histogram for the transformed variable\n",
    "axes[1].hist(p1, bins=40, color=plot_tools.lighten('C0'))\n",
    "# compute 2.5% and 97.5% quantile approximation using samples\n",
    "p1_25, p1_975 = np.percentile(p1, [2.5, 97.5])\n",
    "# draw lines for these\n",
    "axes[1].axvline(p1_25, color='C1')\n",
    "axes[1].axvline(p1_975, color='C1')\n",
    "axes[1].text(\n",
    "    p1_25,\n",
    "    axes[1].get_ylim()[1]+15,\n",
    "    '2.5%',\n",
    "     horizontalalignment='center'\n",
    ")\n",
    "axes[1].text(\n",
    "    p1_975,\n",
    "    axes[1].get_ylim()[1]+15,\n",
    "    '97.5%',\n",
    "    horizontalalignment='center'\n",
    ")\n",
    "axes[1].set_xlabel(r'$p1$');\n",
    "\n",
    "# plot histogram for the transformed variable\n",
    "axes[2].hist(odd, bins=40, color=plot_tools.lighten('C0'))\n",
    "# compute 2.5% and 97.5% quantile approximation using samples\n",
    "odd_25, odd_975 = np.percentile(odd, [2.5, 97.5])\n",
    "# draw lines for these\n",
    "axes[2].axvline(odd_25, color='C1')\n",
    "axes[2].axvline(odd_975, color='C1')\n",
    "axes[2].text(\n",
    "    odd_25,\n",
    "    axes[2].get_ylim()[1]+15,\n",
    "    '2.5%',\n",
    "     horizontalalignment='center'\n",
    ")\n",
    "axes[2].text(\n",
    "    odd_975,\n",
    "    axes[2].get_ylim()[1]+15,\n",
    "    '97.5%',\n",
    "    horizontalalignment='center'\n",
    ")\n",
    "axes[2].set_xlabel(r'$odds ratio$');"
   ]
  },
  {
   "cell_type": "markdown",
   "metadata": {},
   "source": [
    "It can then be said that the median-ratio_of_deaths in the treatment group is only 56% of that in the controle group (almost two times lower), and that it is with in the range of 33.2% and 93.5% with a certanty of 95%"
   ]
  },
  {
   "cell_type": "markdown",
   "metadata": {},
   "source": [
    "### 3.2.b"
   ]
  },
  {
   "cell_type": "markdown",
   "metadata": {},
   "source": [
    "As the prior that i uses is a factor 10 less percise as the derived posterior, and that it is centered around the mean of the data make it have very little influence. "
   ]
  },
  {
   "cell_type": "markdown",
   "metadata": {},
   "source": [
    "## Problem 3.3"
   ]
  },
  {
   "cell_type": "markdown",
   "metadata": {},
   "source": [
    "### some theory"
   ]
  },
  {
   "cell_type": "markdown",
   "metadata": {},
   "source": [
    "all is given from problems 3.1 and 3.2"
   ]
  },
  {
   "cell_type": "markdown",
   "metadata": {},
   "source": [
    "### Code base"
   ]
  },
  {
   "cell_type": "code",
   "execution_count": 5,
   "metadata": {
    "collapsed": true
   },
   "outputs": [],
   "source": [
    "#sample data\n",
    "y1 = np.loadtxt('data/windshieldy1.txt')\n",
    "n1 = len(y)\n",
    "y1_mean = np.mean(y)\n",
    "y1_s2 = np.var(y,ddof=1)\n",
    "\n",
    "y2 = np.loadtxt('data/windshieldy2.txt')\n",
    "n2 = len(y)\n",
    "y2_mean = np.mean(y)\n",
    "y2_s2 = np.var(y,ddof=1)"
   ]
  },
  {
   "cell_type": "code",
   "execution_count": 16,
   "metadata": {},
   "outputs": [],
   "source": [
    "#freez the distributions\n",
    "pos_dist_mu1 = stats.t(n1-1, loc=y1_mean, scale=np.sqrt(y1_s2/n1))\n",
    "pos_dist_mu2 = stats.t(n2-1, loc=y2_mean, scale=np.sqrt(y2_s2/n2))\n",
    "\n",
    "#create line space (x axis)\n",
    "a, b = pos_dist_mu1.stats('mv')\n",
    "x = np.linspace(a-b*7, a+b*7, 1000)\n",
    "\n",
    "# draw n random samples from the two distributions\n",
    "n = 10000\n",
    "mu1 = pos_dist_mu1.rvs(n)  # rvs comes from `random variates`\n",
    "mu2 = pos_dist_mu2.rvs(n)\n",
    "\n",
    "#Do the diff\n",
    "mu_d = mu1 - mu2"
   ]
  },
  {
   "cell_type": "markdown",
   "metadata": {},
   "source": [
    "### 3.3.a"
   ]
  },
  {
   "cell_type": "code",
   "execution_count": 15,
   "metadata": {},
   "outputs": [
    {
     "data": {
      "image/png": "[encoded data removed]",
      "text/plain": [
       "<matplotlib.figure.Figure at 0x7f89e90fcac8>"
      ]
     },
     "metadata": {},
     "output_type": "display_data"
    }
   ],
   "source": [
    "# plot 2 subplots\n",
    "fig, axes = plt.subplots(nrows=3, ncols=1, figsize=(8, 8))\n",
    "# show only x-axis\n",
    "plot_tools.modify_axes.only_x(axes)\n",
    "# manually adjust spacing\n",
    "fig.subplots_adjust(hspace=0.5)\n",
    "\n",
    "# plot histogram\n",
    "axes[0].hist(mu1, bins=40, color=plot_tools.lighten('C0'))\n",
    "# compute 2.5% and 97.5% quantile approximation using samples\n",
    "mu1_25, mu1_975 = np.percentile(mu1, [2.5, 97.5])\n",
    "# draw lines for these\n",
    "axes[0].axvline(mu1_25, color='C1')\n",
    "axes[0].axvline(mu1_975, color='C1')\n",
    "axes[0].text(\n",
    "    mu1_25,\n",
    "    axes[0].get_ylim()[1]+15,\n",
    "    '2.5%',\n",
    "    horizontalalignment='center'\n",
    ")\n",
    "axes[0].text(\n",
    "    mu1_975,\n",
    "    axes[0].get_ylim()[1]+15,\n",
    "    '97.5%',\n",
    "    horizontalalignment='center'\n",
    ")\n",
    "axes[0].set_xlabel(r'$mu1$')\n",
    "\n",
    "# plot histogram for the transformed variable\n",
    "axes[1].hist(mu2, bins=40, color=plot_tools.lighten('C0'))\n",
    "# compute 2.5% and 97.5% quantile approximation using samples\n",
    "mu2_25, mu2_975 = np.percentile(mu2, [2.5, 97.5])\n",
    "# draw lines for these\n",
    "axes[1].axvline(mu2_25, color='C1')\n",
    "axes[1].axvline(mu2_975, color='C1')\n",
    "axes[1].text(\n",
    "    mu2_25,\n",
    "    axes[1].get_ylim()[1]+15,\n",
    "    '2.5%',\n",
    "     horizontalalignment='center'\n",
    ")\n",
    "axes[1].text(\n",
    "    mu2_975,\n",
    "    axes[1].get_ylim()[1]+15,\n",
    "    '97.5%',\n",
    "    horizontalalignment='center'\n",
    ")\n",
    "axes[1].set_xlabel(r'$mu2$');\n",
    "\n",
    "# plot histogram for the transformed variable\n",
    "axes[2].hist(mu_d, bins=40, color=plot_tools.lighten('C0'))\n",
    "# compute 2.5% and 97.5% quantile approximation using samples\n",
    "mu_d_25, mu_d_975 = np.percentile(mu_d, [2.5, 97.5])\n",
    "# draw lines for these\n",
    "axes[2].axvline(mu_d_25, color='C1')\n",
    "axes[2].axvline(mu_d_975, color='C1')\n",
    "axes[2].text(\n",
    "    mu_d_25,\n",
    "    axes[2].get_ylim()[1]+15,\n",
    "    '2.5%',\n",
    "     horizontalalignment='center'\n",
    ")\n",
    "axes[2].text(\n",
    "    mu_d_975,\n",
    "    axes[2].get_ylim()[1]+15,\n",
    "    '97.5%',\n",
    "    horizontalalignment='center'\n",
    ")\n",
    "axes[2].set_xlabel(r'$mu_d$');"
   ]
  },
  {
   "cell_type": "markdown",
   "metadata": {},
   "source": [
    "The median of mu_d is -0.00014 and the 95% confidence interval is almost symetric around 0 at [-1.6106, 1.6101]"
   ]
  },
  {
   "cell_type": "markdown",
   "metadata": {},
   "source": [
    "### 3.3.b"
   ]
  },
  {
   "cell_type": "markdown",
   "metadata": {},
   "source": [
    "As 0 is will with in the bounds of the 95% interval we can say that there is no evidence that the two product lines produces different hardness "
   ]
  }
 ],
 "metadata": {
  "kernelspec": {
   "display_name": "tensorflow",
   "language": "python",
   "name": "tensorflow"
  },
  "language_info": {
   "codemirror_mode": {
    "name": "ipython",
    "version": 3
   },
   "file_extension": ".py",
   "mimetype": "text/x-python",
   "name": "python",
   "nbconvert_exporter": "python",
   "pygments_lexer": "ipython3",
   "version": "3.5.2"
  }
 },
 "nbformat": 4,
 "nbformat_minor": 2
}
